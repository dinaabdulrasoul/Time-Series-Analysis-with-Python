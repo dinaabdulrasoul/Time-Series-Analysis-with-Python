{
 "cells": [
  {
   "cell_type": "code",
   "execution_count": 56,
   "metadata": {},
   "outputs": [],
   "source": [
    "import matplotlib.pyplot as plt\n",
    "import pandas as pd\n",
    "import numpy as np\n",
    "import statsmodels.graphics.tsaplots as sgt\n",
    "import statsmodels.tsa.stattools as sts\n",
    "from statsmodels.tsa.seasonal import seasonal_decompose\n",
    "import seaborn as sns\n",
    "sns.set()\n",
    "%matplotlib inline"
   ]
  },
  {
   "cell_type": "markdown",
   "metadata": {},
   "source": [
    "## Exploting the Data"
   ]
  },
  {
   "cell_type": "code",
   "execution_count": 57,
   "metadata": {},
   "outputs": [],
   "source": [
    "raw_csv_data = pd.read_csv(\"Index2018.csv\")"
   ]
  },
  {
   "cell_type": "code",
   "execution_count": 58,
   "metadata": {},
   "outputs": [],
   "source": [
    "df_comp = raw_csv_data.copy()"
   ]
  },
  {
   "cell_type": "code",
   "execution_count": 59,
   "metadata": {},
   "outputs": [
    {
     "data": {
      "text/html": [
       "<div>\n",
       "<style scoped>\n",
       "    .dataframe tbody tr th:only-of-type {\n",
       "        vertical-align: middle;\n",
       "    }\n",
       "\n",
       "    .dataframe tbody tr th {\n",
       "        vertical-align: top;\n",
       "    }\n",
       "\n",
       "    .dataframe thead th {\n",
       "        text-align: right;\n",
       "    }\n",
       "</style>\n",
       "<table border=\"1\" class=\"dataframe\">\n",
       "  <thead>\n",
       "    <tr style=\"text-align: right;\">\n",
       "      <th></th>\n",
       "      <th>date</th>\n",
       "      <th>spx</th>\n",
       "      <th>dax</th>\n",
       "      <th>ftse</th>\n",
       "      <th>nikkei</th>\n",
       "    </tr>\n",
       "  </thead>\n",
       "  <tbody>\n",
       "    <tr>\n",
       "      <th>0</th>\n",
       "      <td>07/01/1994</td>\n",
       "      <td>469.90</td>\n",
       "      <td>2224.95</td>\n",
       "      <td>3445.98</td>\n",
       "      <td>18124.01</td>\n",
       "    </tr>\n",
       "    <tr>\n",
       "      <th>1</th>\n",
       "      <td>10/01/1994</td>\n",
       "      <td>475.27</td>\n",
       "      <td>2225.00</td>\n",
       "      <td>3440.58</td>\n",
       "      <td>18443.44</td>\n",
       "    </tr>\n",
       "    <tr>\n",
       "      <th>2</th>\n",
       "      <td>11/01/1994</td>\n",
       "      <td>474.13</td>\n",
       "      <td>2228.10</td>\n",
       "      <td>3413.77</td>\n",
       "      <td>18485.25</td>\n",
       "    </tr>\n",
       "    <tr>\n",
       "      <th>3</th>\n",
       "      <td>12/01/1994</td>\n",
       "      <td>474.17</td>\n",
       "      <td>2182.06</td>\n",
       "      <td>3372.02</td>\n",
       "      <td>18793.88</td>\n",
       "    </tr>\n",
       "    <tr>\n",
       "      <th>4</th>\n",
       "      <td>13/01/1994</td>\n",
       "      <td>472.47</td>\n",
       "      <td>2142.37</td>\n",
       "      <td>3360.01</td>\n",
       "      <td>18577.26</td>\n",
       "    </tr>\n",
       "  </tbody>\n",
       "</table>\n",
       "</div>"
      ],
      "text/plain": [
       "         date     spx      dax     ftse    nikkei\n",
       "0  07/01/1994  469.90  2224.95  3445.98  18124.01\n",
       "1  10/01/1994  475.27  2225.00  3440.58  18443.44\n",
       "2  11/01/1994  474.13  2228.10  3413.77  18485.25\n",
       "3  12/01/1994  474.17  2182.06  3372.02  18793.88\n",
       "4  13/01/1994  472.47  2142.37  3360.01  18577.26"
      ]
     },
     "execution_count": 59,
     "metadata": {},
     "output_type": "execute_result"
    }
   ],
   "source": [
    "df_comp.head()"
   ]
  },
  {
   "cell_type": "code",
   "execution_count": 60,
   "metadata": {},
   "outputs": [
    {
     "data": {
      "text/plain": [
       "date      6269\n",
       "spx       6269\n",
       "dax       6269\n",
       "ftse      6269\n",
       "nikkei    6269\n",
       "dtype: int64"
      ]
     },
     "execution_count": 60,
     "metadata": {},
     "output_type": "execute_result"
    }
   ],
   "source": [
    "df_comp.count()"
   ]
  },
  {
   "cell_type": "code",
   "execution_count": 61,
   "metadata": {},
   "outputs": [
    {
     "data": {
      "text/html": [
       "<div>\n",
       "<style scoped>\n",
       "    .dataframe tbody tr th:only-of-type {\n",
       "        vertical-align: middle;\n",
       "    }\n",
       "\n",
       "    .dataframe tbody tr th {\n",
       "        vertical-align: top;\n",
       "    }\n",
       "\n",
       "    .dataframe thead th {\n",
       "        text-align: right;\n",
       "    }\n",
       "</style>\n",
       "<table border=\"1\" class=\"dataframe\">\n",
       "  <thead>\n",
       "    <tr style=\"text-align: right;\">\n",
       "      <th></th>\n",
       "      <th>spx</th>\n",
       "      <th>dax</th>\n",
       "      <th>ftse</th>\n",
       "      <th>nikkei</th>\n",
       "    </tr>\n",
       "  </thead>\n",
       "  <tbody>\n",
       "    <tr>\n",
       "      <th>count</th>\n",
       "      <td>6269.000000</td>\n",
       "      <td>6269.000000</td>\n",
       "      <td>6269.000000</td>\n",
       "      <td>6269.000000</td>\n",
       "    </tr>\n",
       "    <tr>\n",
       "      <th>mean</th>\n",
       "      <td>1288.127542</td>\n",
       "      <td>6080.063363</td>\n",
       "      <td>5422.713545</td>\n",
       "      <td>14597.055700</td>\n",
       "    </tr>\n",
       "    <tr>\n",
       "      <th>std</th>\n",
       "      <td>487.586473</td>\n",
       "      <td>2754.361032</td>\n",
       "      <td>1145.572428</td>\n",
       "      <td>4043.122953</td>\n",
       "    </tr>\n",
       "    <tr>\n",
       "      <th>min</th>\n",
       "      <td>438.920000</td>\n",
       "      <td>1911.700000</td>\n",
       "      <td>2876.600000</td>\n",
       "      <td>7054.980000</td>\n",
       "    </tr>\n",
       "    <tr>\n",
       "      <th>25%</th>\n",
       "      <td>990.671905</td>\n",
       "      <td>4069.350000</td>\n",
       "      <td>4486.100000</td>\n",
       "      <td>10709.290000</td>\n",
       "    </tr>\n",
       "    <tr>\n",
       "      <th>50%</th>\n",
       "      <td>1233.420000</td>\n",
       "      <td>5773.340000</td>\n",
       "      <td>5662.430000</td>\n",
       "      <td>15028.170000</td>\n",
       "    </tr>\n",
       "    <tr>\n",
       "      <th>75%</th>\n",
       "      <td>1459.987747</td>\n",
       "      <td>7443.070000</td>\n",
       "      <td>6304.250000</td>\n",
       "      <td>17860.470000</td>\n",
       "    </tr>\n",
       "    <tr>\n",
       "      <th>max</th>\n",
       "      <td>2872.867839</td>\n",
       "      <td>13559.600000</td>\n",
       "      <td>7778.637689</td>\n",
       "      <td>24124.150000</td>\n",
       "    </tr>\n",
       "  </tbody>\n",
       "</table>\n",
       "</div>"
      ],
      "text/plain": [
       "               spx           dax         ftse        nikkei\n",
       "count  6269.000000   6269.000000  6269.000000   6269.000000\n",
       "mean   1288.127542   6080.063363  5422.713545  14597.055700\n",
       "std     487.586473   2754.361032  1145.572428   4043.122953\n",
       "min     438.920000   1911.700000  2876.600000   7054.980000\n",
       "25%     990.671905   4069.350000  4486.100000  10709.290000\n",
       "50%    1233.420000   5773.340000  5662.430000  15028.170000\n",
       "75%    1459.987747   7443.070000  6304.250000  17860.470000\n",
       "max    2872.867839  13559.600000  7778.637689  24124.150000"
      ]
     },
     "execution_count": 61,
     "metadata": {},
     "output_type": "execute_result"
    }
   ],
   "source": [
    "df_comp.describe() #describe only describes the numerical attributes not (date) that's why data attribute isn't in the following table"
   ]
  },
  {
   "cell_type": "code",
   "execution_count": 62,
   "metadata": {},
   "outputs": [
    {
     "data": {
      "text/plain": [
       "date      0\n",
       "spx       0\n",
       "dax       0\n",
       "ftse      0\n",
       "nikkei    0\n",
       "dtype: int64"
      ]
     },
     "execution_count": 62,
     "metadata": {},
     "output_type": "execute_result"
    }
   ],
   "source": [
    "# Number of NA values\n",
    "df_comp.isna().sum()"
   ]
  },
  {
   "cell_type": "markdown",
   "metadata": {},
   "source": [
    "## Plotting the Data"
   ]
  },
  {
   "cell_type": "code",
   "execution_count": 63,
   "metadata": {},
   "outputs": [
    {
     "data": {
      "text/plain": [
       "<matplotlib.axes._subplots.AxesSubplot at 0x294bcf58688>"
      ]
     },
     "execution_count": 63,
     "metadata": {},
     "output_type": "execute_result"
    },
    {
     "data": {
      "image/png": "[encoded data removed]",
      "text/plain": [
       "<Figure size 1440x360 with 1 Axes>"
      ]
     },
     "metadata": {
      "needs_background": "light"
     },
     "output_type": "display_data"
    }
   ],
   "source": [
    "df_comp.spx.plot(figsize = (20,5), title = \"S&P500 Prices\")"
   ]
  },
  {
   "cell_type": "code",
   "execution_count": 64,
   "metadata": {},
   "outputs": [
    {
     "data": {
      "text/plain": [
       "<matplotlib.axes._subplots.AxesSubplot at 0x294bd5390c8>"
      ]
     },
     "execution_count": 64,
     "metadata": {},
     "output_type": "execute_result"
    },
    {
     "data": {
      "image/png": "[encoded data removed]",
      "text/plain": [
       "<Figure size 1440x360 with 1 Axes>"
      ]
     },
     "metadata": {
      "needs_background": "light"
     },
     "output_type": "display_data"
    }
   ],
   "source": [
    "df_comp.ftse.plot(figsize = (20,5), title = \"FTSE100 Prices\")"
   ]
  },
  {
   "cell_type": "code",
   "execution_count": 65,
   "metadata": {},
   "outputs": [
    {
     "data": {
      "text/plain": [
       "Text(0.5, 1.0, 'SPX vs FTSE')"
      ]
     },
     "execution_count": 65,
     "metadata": {},
     "output_type": "execute_result"
    },
    {
     "data": {
      "image/png": "[encoded data removed]",
      "text/plain": [
       "<Figure size 1440x360 with 1 Axes>"
      ]
     },
     "metadata": {
      "needs_background": "light"
     },
     "output_type": "display_data"
    }
   ],
   "source": [
    "df_comp.spx.plot(figsize = (20,5), title = \"S&P500 Prices\")\n",
    "df_comp.ftse.plot(figsize = (20,5), title = \"FTSE100 Prices\")\n",
    "plt.title(\"SPX vs FTSE\")"
   ]
  },
  {
   "cell_type": "markdown",
   "metadata": {},
   "source": [
    "#### Note: The SPX curve is actually not flat but in the plot above it's compounded"
   ]
  },
  {
   "cell_type": "markdown",
   "metadata": {},
   "source": [
    "## QQ Plot"
   ]
  },
  {
   "cell_type": "code",
   "execution_count": 66,
   "metadata": {},
   "outputs": [],
   "source": [
    "import scipy.stats\n",
    "import pylab"
   ]
  },
  {
   "cell_type": "code",
   "execution_count": 67,
   "metadata": {},
   "outputs": [
    {
     "data": {
      "image/png": "[encoded data removed]",
      "text/plain": [
       "<Figure size 432x288 with 1 Axes>"
      ]
     },
     "metadata": {
      "needs_background": "light"
     },
     "output_type": "display_data"
    }
   ],
   "source": [
    "scipy.stats.probplot(df_comp.spx, plot = pylab)\n",
    "pylab.show()"
   ]
  },
  {
   "cell_type": "markdown",
   "metadata": {},
   "source": [
    "## Transforming String Inputs into Date Time Values"
   ]
  },
  {
   "cell_type": "markdown",
   "metadata": {},
   "source": [
    "### Length of the Time Period"
   ]
  },
  {
   "cell_type": "code",
   "execution_count": 68,
   "metadata": {},
   "outputs": [
    {
     "data": {
      "text/plain": [
       "count           6269\n",
       "unique          6269\n",
       "top       07/07/2008\n",
       "freq               1\n",
       "Name: date, dtype: object"
      ]
     },
     "execution_count": 68,
     "metadata": {},
     "output_type": "execute_result"
    }
   ],
   "source": [
    "# Let's convert date data into a \"date\" type\n",
    "df_comp.date.describe() # not very informative"
   ]
  },
  {
   "cell_type": "code",
   "execution_count": 69,
   "metadata": {},
   "outputs": [],
   "source": [
    "# Coverting the date so we can get actual useful stats\n",
    "df_comp.date = pd.to_datetime(df_comp.date, dayfirst = True) # default format in pandas is mm/dd/yyyy"
   ]
  },
  {
   "cell_type": "code",
   "execution_count": 70,
   "metadata": {},
   "outputs": [
    {
     "data": {
      "text/html": [
       "<div>\n",
       "<style scoped>\n",
       "    .dataframe tbody tr th:only-of-type {\n",
       "        vertical-align: middle;\n",
       "    }\n",
       "\n",
       "    .dataframe tbody tr th {\n",
       "        vertical-align: top;\n",
       "    }\n",
       "\n",
       "    .dataframe thead th {\n",
       "        text-align: right;\n",
       "    }\n",
       "</style>\n",
       "<table border=\"1\" class=\"dataframe\">\n",
       "  <thead>\n",
       "    <tr style=\"text-align: right;\">\n",
       "      <th></th>\n",
       "      <th>date</th>\n",
       "      <th>spx</th>\n",
       "      <th>dax</th>\n",
       "      <th>ftse</th>\n",
       "      <th>nikkei</th>\n",
       "    </tr>\n",
       "  </thead>\n",
       "  <tbody>\n",
       "    <tr>\n",
       "      <th>0</th>\n",
       "      <td>1994-01-07</td>\n",
       "      <td>469.90</td>\n",
       "      <td>2224.95</td>\n",
       "      <td>3445.98</td>\n",
       "      <td>18124.01</td>\n",
       "    </tr>\n",
       "    <tr>\n",
       "      <th>1</th>\n",
       "      <td>1994-01-10</td>\n",
       "      <td>475.27</td>\n",
       "      <td>2225.00</td>\n",
       "      <td>3440.58</td>\n",
       "      <td>18443.44</td>\n",
       "    </tr>\n",
       "    <tr>\n",
       "      <th>2</th>\n",
       "      <td>1994-01-11</td>\n",
       "      <td>474.13</td>\n",
       "      <td>2228.10</td>\n",
       "      <td>3413.77</td>\n",
       "      <td>18485.25</td>\n",
       "    </tr>\n",
       "    <tr>\n",
       "      <th>3</th>\n",
       "      <td>1994-01-12</td>\n",
       "      <td>474.17</td>\n",
       "      <td>2182.06</td>\n",
       "      <td>3372.02</td>\n",
       "      <td>18793.88</td>\n",
       "    </tr>\n",
       "    <tr>\n",
       "      <th>4</th>\n",
       "      <td>1994-01-13</td>\n",
       "      <td>472.47</td>\n",
       "      <td>2142.37</td>\n",
       "      <td>3360.01</td>\n",
       "      <td>18577.26</td>\n",
       "    </tr>\n",
       "  </tbody>\n",
       "</table>\n",
       "</div>"
      ],
      "text/plain": [
       "        date     spx      dax     ftse    nikkei\n",
       "0 1994-01-07  469.90  2224.95  3445.98  18124.01\n",
       "1 1994-01-10  475.27  2225.00  3440.58  18443.44\n",
       "2 1994-01-11  474.13  2228.10  3413.77  18485.25\n",
       "3 1994-01-12  474.17  2182.06  3372.02  18793.88\n",
       "4 1994-01-13  472.47  2142.37  3360.01  18577.26"
      ]
     },
     "execution_count": 70,
     "metadata": {},
     "output_type": "execute_result"
    }
   ],
   "source": [
    "df_comp.head()"
   ]
  },
  {
   "cell_type": "code",
   "execution_count": 71,
   "metadata": {},
   "outputs": [
    {
     "data": {
      "text/plain": [
       "count                    6269\n",
       "unique                   6269\n",
       "top       1999-08-23 00:00:00\n",
       "freq                        1\n",
       "first     1994-01-07 00:00:00\n",
       "last      2018-01-29 00:00:00\n",
       "Name: date, dtype: object"
      ]
     },
     "execution_count": 71,
     "metadata": {},
     "output_type": "execute_result"
    }
   ],
   "source": [
    " df_comp.date.describe() # More detailed stats after conversion"
   ]
  },
  {
   "cell_type": "markdown",
   "metadata": {},
   "source": [
    "## Setting the index"
   ]
  },
  {
   "cell_type": "code",
   "execution_count": 72,
   "metadata": {},
   "outputs": [],
   "source": [
    "df_comp.set_index(\"date\", inplace = True) # Date is now the index\n",
    "# You can't manipulate or edit date values new as they became the index"
   ]
  },
  {
   "cell_type": "code",
   "execution_count": 73,
   "metadata": {},
   "outputs": [
    {
     "data": {
      "text/html": [
       "<div>\n",
       "<style scoped>\n",
       "    .dataframe tbody tr th:only-of-type {\n",
       "        vertical-align: middle;\n",
       "    }\n",
       "\n",
       "    .dataframe tbody tr th {\n",
       "        vertical-align: top;\n",
       "    }\n",
       "\n",
       "    .dataframe thead th {\n",
       "        text-align: right;\n",
       "    }\n",
       "</style>\n",
       "<table border=\"1\" class=\"dataframe\">\n",
       "  <thead>\n",
       "    <tr style=\"text-align: right;\">\n",
       "      <th></th>\n",
       "      <th>spx</th>\n",
       "      <th>dax</th>\n",
       "      <th>ftse</th>\n",
       "      <th>nikkei</th>\n",
       "    </tr>\n",
       "    <tr>\n",
       "      <th>date</th>\n",
       "      <th></th>\n",
       "      <th></th>\n",
       "      <th></th>\n",
       "      <th></th>\n",
       "    </tr>\n",
       "  </thead>\n",
       "  <tbody>\n",
       "    <tr>\n",
       "      <th>1994-01-07</th>\n",
       "      <td>469.90</td>\n",
       "      <td>2224.95</td>\n",
       "      <td>3445.98</td>\n",
       "      <td>18124.01</td>\n",
       "    </tr>\n",
       "    <tr>\n",
       "      <th>1994-01-10</th>\n",
       "      <td>475.27</td>\n",
       "      <td>2225.00</td>\n",
       "      <td>3440.58</td>\n",
       "      <td>18443.44</td>\n",
       "    </tr>\n",
       "    <tr>\n",
       "      <th>1994-01-11</th>\n",
       "      <td>474.13</td>\n",
       "      <td>2228.10</td>\n",
       "      <td>3413.77</td>\n",
       "      <td>18485.25</td>\n",
       "    </tr>\n",
       "    <tr>\n",
       "      <th>1994-01-12</th>\n",
       "      <td>474.17</td>\n",
       "      <td>2182.06</td>\n",
       "      <td>3372.02</td>\n",
       "      <td>18793.88</td>\n",
       "    </tr>\n",
       "    <tr>\n",
       "      <th>1994-01-13</th>\n",
       "      <td>472.47</td>\n",
       "      <td>2142.37</td>\n",
       "      <td>3360.01</td>\n",
       "      <td>18577.26</td>\n",
       "    </tr>\n",
       "  </tbody>\n",
       "</table>\n",
       "</div>"
      ],
      "text/plain": [
       "               spx      dax     ftse    nikkei\n",
       "date                                          \n",
       "1994-01-07  469.90  2224.95  3445.98  18124.01\n",
       "1994-01-10  475.27  2225.00  3440.58  18443.44\n",
       "1994-01-11  474.13  2228.10  3413.77  18485.25\n",
       "1994-01-12  474.17  2182.06  3372.02  18793.88\n",
       "1994-01-13  472.47  2142.37  3360.01  18577.26"
      ]
     },
     "execution_count": 73,
     "metadata": {},
     "output_type": "execute_result"
    }
   ],
   "source": [
    "df_comp.head()"
   ]
  },
  {
   "cell_type": "markdown",
   "metadata": {},
   "source": [
    "### Setting the desired frequency"
   ]
  },
  {
   "cell_type": "code",
   "execution_count": 74,
   "metadata": {},
   "outputs": [],
   "source": [
    "df_comp = df_comp.asfreq('d') # a for annual, d for daily, b = business days"
   ]
  },
  {
   "cell_type": "code",
   "execution_count": 75,
   "metadata": {},
   "outputs": [
    {
     "data": {
      "text/html": [
       "<div>\n",
       "<style scoped>\n",
       "    .dataframe tbody tr th:only-of-type {\n",
       "        vertical-align: middle;\n",
       "    }\n",
       "\n",
       "    .dataframe tbody tr th {\n",
       "        vertical-align: top;\n",
       "    }\n",
       "\n",
       "    .dataframe thead th {\n",
       "        text-align: right;\n",
       "    }\n",
       "</style>\n",
       "<table border=\"1\" class=\"dataframe\">\n",
       "  <thead>\n",
       "    <tr style=\"text-align: right;\">\n",
       "      <th></th>\n",
       "      <th>spx</th>\n",
       "      <th>dax</th>\n",
       "      <th>ftse</th>\n",
       "      <th>nikkei</th>\n",
       "    </tr>\n",
       "    <tr>\n",
       "      <th>date</th>\n",
       "      <th></th>\n",
       "      <th></th>\n",
       "      <th></th>\n",
       "      <th></th>\n",
       "    </tr>\n",
       "  </thead>\n",
       "  <tbody>\n",
       "    <tr>\n",
       "      <th>1994-01-07</th>\n",
       "      <td>469.90</td>\n",
       "      <td>2224.95</td>\n",
       "      <td>3445.98</td>\n",
       "      <td>18124.01</td>\n",
       "    </tr>\n",
       "    <tr>\n",
       "      <th>1994-01-08</th>\n",
       "      <td>NaN</td>\n",
       "      <td>NaN</td>\n",
       "      <td>NaN</td>\n",
       "      <td>NaN</td>\n",
       "    </tr>\n",
       "    <tr>\n",
       "      <th>1994-01-09</th>\n",
       "      <td>NaN</td>\n",
       "      <td>NaN</td>\n",
       "      <td>NaN</td>\n",
       "      <td>NaN</td>\n",
       "    </tr>\n",
       "    <tr>\n",
       "      <th>1994-01-10</th>\n",
       "      <td>475.27</td>\n",
       "      <td>2225.00</td>\n",
       "      <td>3440.58</td>\n",
       "      <td>18443.44</td>\n",
       "    </tr>\n",
       "    <tr>\n",
       "      <th>1994-01-11</th>\n",
       "      <td>474.13</td>\n",
       "      <td>2228.10</td>\n",
       "      <td>3413.77</td>\n",
       "      <td>18485.25</td>\n",
       "    </tr>\n",
       "  </tbody>\n",
       "</table>\n",
       "</div>"
      ],
      "text/plain": [
       "               spx      dax     ftse    nikkei\n",
       "date                                          \n",
       "1994-01-07  469.90  2224.95  3445.98  18124.01\n",
       "1994-01-08     NaN      NaN      NaN       NaN\n",
       "1994-01-09     NaN      NaN      NaN       NaN\n",
       "1994-01-10  475.27  2225.00  3440.58  18443.44\n",
       "1994-01-11  474.13  2228.10  3413.77  18485.25"
      ]
     },
     "execution_count": 75,
     "metadata": {},
     "output_type": "execute_result"
    }
   ],
   "source": [
    "df_comp.head() # NaN values start appearing"
   ]
  },
  {
   "cell_type": "code",
   "execution_count": 76,
   "metadata": {},
   "outputs": [],
   "source": [
    "# Now let's remove any data recorded during holidays or non-working hours\n",
    "df_comp = df_comp.asfreq('b') "
   ]
  },
  {
   "cell_type": "code",
   "execution_count": 77,
   "metadata": {},
   "outputs": [
    {
     "data": {
      "text/html": [
       "<div>\n",
       "<style scoped>\n",
       "    .dataframe tbody tr th:only-of-type {\n",
       "        vertical-align: middle;\n",
       "    }\n",
       "\n",
       "    .dataframe tbody tr th {\n",
       "        vertical-align: top;\n",
       "    }\n",
       "\n",
       "    .dataframe thead th {\n",
       "        text-align: right;\n",
       "    }\n",
       "</style>\n",
       "<table border=\"1\" class=\"dataframe\">\n",
       "  <thead>\n",
       "    <tr style=\"text-align: right;\">\n",
       "      <th></th>\n",
       "      <th>spx</th>\n",
       "      <th>dax</th>\n",
       "      <th>ftse</th>\n",
       "      <th>nikkei</th>\n",
       "    </tr>\n",
       "    <tr>\n",
       "      <th>date</th>\n",
       "      <th></th>\n",
       "      <th></th>\n",
       "      <th></th>\n",
       "      <th></th>\n",
       "    </tr>\n",
       "  </thead>\n",
       "  <tbody>\n",
       "    <tr>\n",
       "      <th>1994-01-07</th>\n",
       "      <td>469.90</td>\n",
       "      <td>2224.95</td>\n",
       "      <td>3445.98</td>\n",
       "      <td>18124.01</td>\n",
       "    </tr>\n",
       "    <tr>\n",
       "      <th>1994-01-10</th>\n",
       "      <td>475.27</td>\n",
       "      <td>2225.00</td>\n",
       "      <td>3440.58</td>\n",
       "      <td>18443.44</td>\n",
       "    </tr>\n",
       "    <tr>\n",
       "      <th>1994-01-11</th>\n",
       "      <td>474.13</td>\n",
       "      <td>2228.10</td>\n",
       "      <td>3413.77</td>\n",
       "      <td>18485.25</td>\n",
       "    </tr>\n",
       "    <tr>\n",
       "      <th>1994-01-12</th>\n",
       "      <td>474.17</td>\n",
       "      <td>2182.06</td>\n",
       "      <td>3372.02</td>\n",
       "      <td>18793.88</td>\n",
       "    </tr>\n",
       "    <tr>\n",
       "      <th>1994-01-13</th>\n",
       "      <td>472.47</td>\n",
       "      <td>2142.37</td>\n",
       "      <td>3360.01</td>\n",
       "      <td>18577.26</td>\n",
       "    </tr>\n",
       "  </tbody>\n",
       "</table>\n",
       "</div>"
      ],
      "text/plain": [
       "               spx      dax     ftse    nikkei\n",
       "date                                          \n",
       "1994-01-07  469.90  2224.95  3445.98  18124.01\n",
       "1994-01-10  475.27  2225.00  3440.58  18443.44\n",
       "1994-01-11  474.13  2228.10  3413.77  18485.25\n",
       "1994-01-12  474.17  2182.06  3372.02  18793.88\n",
       "1994-01-13  472.47  2142.37  3360.01  18577.26"
      ]
     },
     "execution_count": 77,
     "metadata": {},
     "output_type": "execute_result"
    }
   ],
   "source": [
    "df_comp.head()"
   ]
  },
  {
   "cell_type": "markdown",
   "metadata": {},
   "source": [
    "## Handling Missing Values"
   ]
  },
  {
   "cell_type": "code",
   "execution_count": 78,
   "metadata": {},
   "outputs": [
    {
     "data": {
      "text/html": [
       "<div>\n",
       "<style scoped>\n",
       "    .dataframe tbody tr th:only-of-type {\n",
       "        vertical-align: middle;\n",
       "    }\n",
       "\n",
       "    .dataframe tbody tr th {\n",
       "        vertical-align: top;\n",
       "    }\n",
       "\n",
       "    .dataframe thead th {\n",
       "        text-align: right;\n",
       "    }\n",
       "</style>\n",
       "<table border=\"1\" class=\"dataframe\">\n",
       "  <thead>\n",
       "    <tr style=\"text-align: right;\">\n",
       "      <th></th>\n",
       "      <th>spx</th>\n",
       "      <th>dax</th>\n",
       "      <th>ftse</th>\n",
       "      <th>nikkei</th>\n",
       "    </tr>\n",
       "    <tr>\n",
       "      <th>date</th>\n",
       "      <th></th>\n",
       "      <th></th>\n",
       "      <th></th>\n",
       "      <th></th>\n",
       "    </tr>\n",
       "  </thead>\n",
       "  <tbody>\n",
       "    <tr>\n",
       "      <th>1994-01-07</th>\n",
       "      <td>False</td>\n",
       "      <td>False</td>\n",
       "      <td>False</td>\n",
       "      <td>False</td>\n",
       "    </tr>\n",
       "    <tr>\n",
       "      <th>1994-01-10</th>\n",
       "      <td>False</td>\n",
       "      <td>False</td>\n",
       "      <td>False</td>\n",
       "      <td>False</td>\n",
       "    </tr>\n",
       "    <tr>\n",
       "      <th>1994-01-11</th>\n",
       "      <td>False</td>\n",
       "      <td>False</td>\n",
       "      <td>False</td>\n",
       "      <td>False</td>\n",
       "    </tr>\n",
       "    <tr>\n",
       "      <th>1994-01-12</th>\n",
       "      <td>False</td>\n",
       "      <td>False</td>\n",
       "      <td>False</td>\n",
       "      <td>False</td>\n",
       "    </tr>\n",
       "    <tr>\n",
       "      <th>1994-01-13</th>\n",
       "      <td>False</td>\n",
       "      <td>False</td>\n",
       "      <td>False</td>\n",
       "      <td>False</td>\n",
       "    </tr>\n",
       "    <tr>\n",
       "      <th>...</th>\n",
       "      <td>...</td>\n",
       "      <td>...</td>\n",
       "      <td>...</td>\n",
       "      <td>...</td>\n",
       "    </tr>\n",
       "    <tr>\n",
       "      <th>2018-01-23</th>\n",
       "      <td>False</td>\n",
       "      <td>False</td>\n",
       "      <td>False</td>\n",
       "      <td>False</td>\n",
       "    </tr>\n",
       "    <tr>\n",
       "      <th>2018-01-24</th>\n",
       "      <td>False</td>\n",
       "      <td>False</td>\n",
       "      <td>False</td>\n",
       "      <td>False</td>\n",
       "    </tr>\n",
       "    <tr>\n",
       "      <th>2018-01-25</th>\n",
       "      <td>False</td>\n",
       "      <td>False</td>\n",
       "      <td>False</td>\n",
       "      <td>False</td>\n",
       "    </tr>\n",
       "    <tr>\n",
       "      <th>2018-01-26</th>\n",
       "      <td>False</td>\n",
       "      <td>False</td>\n",
       "      <td>False</td>\n",
       "      <td>False</td>\n",
       "    </tr>\n",
       "    <tr>\n",
       "      <th>2018-01-29</th>\n",
       "      <td>False</td>\n",
       "      <td>False</td>\n",
       "      <td>False</td>\n",
       "      <td>False</td>\n",
       "    </tr>\n",
       "  </tbody>\n",
       "</table>\n",
       "<p>6277 rows × 4 columns</p>\n",
       "</div>"
      ],
      "text/plain": [
       "              spx    dax   ftse  nikkei\n",
       "date                                   \n",
       "1994-01-07  False  False  False   False\n",
       "1994-01-10  False  False  False   False\n",
       "1994-01-11  False  False  False   False\n",
       "1994-01-12  False  False  False   False\n",
       "1994-01-13  False  False  False   False\n",
       "...           ...    ...    ...     ...\n",
       "2018-01-23  False  False  False   False\n",
       "2018-01-24  False  False  False   False\n",
       "2018-01-25  False  False  False   False\n",
       "2018-01-26  False  False  False   False\n",
       "2018-01-29  False  False  False   False\n",
       "\n",
       "[6277 rows x 4 columns]"
      ]
     },
     "execution_count": 78,
     "metadata": {},
     "output_type": "execute_result"
    }
   ],
   "source": [
    "df_comp.isna()"
   ]
  },
  {
   "cell_type": "code",
   "execution_count": 79,
   "metadata": {},
   "outputs": [
    {
     "data": {
      "text/plain": [
       "spx       8\n",
       "dax       8\n",
       "ftse      8\n",
       "nikkei    8\n",
       "dtype: int64"
      ]
     },
     "execution_count": 79,
     "metadata": {},
     "output_type": "execute_result"
    }
   ],
   "source": [
    "df_comp.isna().sum()"
   ]
  },
  {
   "cell_type": "code",
   "execution_count": 80,
   "metadata": {},
   "outputs": [],
   "source": [
    "df_comp.spx = df_comp.spx.fillna(method =\"ffill\")"
   ]
  },
  {
   "cell_type": "code",
   "execution_count": 81,
   "metadata": {},
   "outputs": [],
   "source": [
    "df_comp.ftse = df_comp.ftse.fillna(method =\"bfill\")"
   ]
  },
  {
   "cell_type": "code",
   "execution_count": 82,
   "metadata": {},
   "outputs": [
    {
     "data": {
      "text/plain": [
       "spx       0\n",
       "dax       8\n",
       "ftse      0\n",
       "nikkei    8\n",
       "dtype: int64"
      ]
     },
     "execution_count": 82,
     "metadata": {},
     "output_type": "execute_result"
    }
   ],
   "source": [
    "df_comp.isna().sum()"
   ]
  },
  {
   "cell_type": "code",
   "execution_count": 83,
   "metadata": {},
   "outputs": [],
   "source": [
    "df_comp.dax = df_comp.dax.fillna(value = df_comp.dax.mean())"
   ]
  },
  {
   "cell_type": "code",
   "execution_count": 84,
   "metadata": {},
   "outputs": [
    {
     "data": {
      "text/plain": [
       "spx       0\n",
       "dax       0\n",
       "ftse      0\n",
       "nikkei    8\n",
       "dtype: int64"
      ]
     },
     "execution_count": 84,
     "metadata": {},
     "output_type": "execute_result"
    }
   ],
   "source": [
    "df_comp.isna().sum()"
   ]
  },
  {
   "cell_type": "code",
   "execution_count": 85,
   "metadata": {},
   "outputs": [],
   "source": [
    "df_comp.nikkei = df_comp.nikkei.fillna(method =\"bfill\")"
   ]
  },
  {
   "cell_type": "markdown",
   "metadata": {},
   "source": [
    "### Simplifying the Data: Dropping Columns & Creating New Ones"
   ]
  },
  {
   "cell_type": "code",
   "execution_count": 86,
   "metadata": {},
   "outputs": [],
   "source": [
    "df_comp[\"market_value\"] = df_comp.spx"
   ]
  },
  {
   "cell_type": "code",
   "execution_count": 87,
   "metadata": {},
   "outputs": [
    {
     "data": {
      "text/html": [
       "<div>\n",
       "<style scoped>\n",
       "    .dataframe tbody tr th:only-of-type {\n",
       "        vertical-align: middle;\n",
       "    }\n",
       "\n",
       "    .dataframe tbody tr th {\n",
       "        vertical-align: top;\n",
       "    }\n",
       "\n",
       "    .dataframe thead th {\n",
       "        text-align: right;\n",
       "    }\n",
       "</style>\n",
       "<table border=\"1\" class=\"dataframe\">\n",
       "  <thead>\n",
       "    <tr style=\"text-align: right;\">\n",
       "      <th></th>\n",
       "      <th>spx</th>\n",
       "      <th>dax</th>\n",
       "      <th>ftse</th>\n",
       "      <th>nikkei</th>\n",
       "      <th>market_value</th>\n",
       "    </tr>\n",
       "  </thead>\n",
       "  <tbody>\n",
       "    <tr>\n",
       "      <th>count</th>\n",
       "      <td>6277.000000</td>\n",
       "      <td>6277.000000</td>\n",
       "      <td>6277.000000</td>\n",
       "      <td>6277.000000</td>\n",
       "      <td>6277.000000</td>\n",
       "    </tr>\n",
       "    <tr>\n",
       "      <th>mean</th>\n",
       "      <td>1288.642547</td>\n",
       "      <td>6080.063363</td>\n",
       "      <td>5423.690398</td>\n",
       "      <td>14597.597179</td>\n",
       "      <td>1288.642547</td>\n",
       "    </tr>\n",
       "    <tr>\n",
       "      <th>std</th>\n",
       "      <td>487.868210</td>\n",
       "      <td>2752.604984</td>\n",
       "      <td>1145.568370</td>\n",
       "      <td>4043.683038</td>\n",
       "      <td>487.868210</td>\n",
       "    </tr>\n",
       "    <tr>\n",
       "      <th>min</th>\n",
       "      <td>438.920000</td>\n",
       "      <td>1911.700000</td>\n",
       "      <td>2876.600000</td>\n",
       "      <td>7054.980000</td>\n",
       "      <td>438.920000</td>\n",
       "    </tr>\n",
       "    <tr>\n",
       "      <th>25%</th>\n",
       "      <td>992.715221</td>\n",
       "      <td>4070.460000</td>\n",
       "      <td>4487.880000</td>\n",
       "      <td>10701.130000</td>\n",
       "      <td>992.715221</td>\n",
       "    </tr>\n",
       "    <tr>\n",
       "      <th>50%</th>\n",
       "      <td>1233.761241</td>\n",
       "      <td>5774.380000</td>\n",
       "      <td>5663.300000</td>\n",
       "      <td>15030.510000</td>\n",
       "      <td>1233.761241</td>\n",
       "    </tr>\n",
       "    <tr>\n",
       "      <th>75%</th>\n",
       "      <td>1460.250000</td>\n",
       "      <td>7442.660000</td>\n",
       "      <td>6304.630175</td>\n",
       "      <td>17860.470000</td>\n",
       "      <td>1460.250000</td>\n",
       "    </tr>\n",
       "    <tr>\n",
       "      <th>max</th>\n",
       "      <td>2872.867839</td>\n",
       "      <td>13559.600000</td>\n",
       "      <td>7778.637689</td>\n",
       "      <td>24124.150000</td>\n",
       "      <td>2872.867839</td>\n",
       "    </tr>\n",
       "  </tbody>\n",
       "</table>\n",
       "</div>"
      ],
      "text/plain": [
       "               spx           dax         ftse        nikkei  market_value\n",
       "count  6277.000000   6277.000000  6277.000000   6277.000000   6277.000000\n",
       "mean   1288.642547   6080.063363  5423.690398  14597.597179   1288.642547\n",
       "std     487.868210   2752.604984  1145.568370   4043.683038    487.868210\n",
       "min     438.920000   1911.700000  2876.600000   7054.980000    438.920000\n",
       "25%     992.715221   4070.460000  4487.880000  10701.130000    992.715221\n",
       "50%    1233.761241   5774.380000  5663.300000  15030.510000   1233.761241\n",
       "75%    1460.250000   7442.660000  6304.630175  17860.470000   1460.250000\n",
       "max    2872.867839  13559.600000  7778.637689  24124.150000   2872.867839"
      ]
     },
     "execution_count": 87,
     "metadata": {},
     "output_type": "execute_result"
    }
   ],
   "source": [
    "df_comp.describe()"
   ]
  },
  {
   "cell_type": "code",
   "execution_count": 88,
   "metadata": {},
   "outputs": [],
   "source": [
    "del df_comp[\"spx\"]"
   ]
  },
  {
   "cell_type": "code",
   "execution_count": 89,
   "metadata": {},
   "outputs": [
    {
     "data": {
      "text/html": [
       "<div>\n",
       "<style scoped>\n",
       "    .dataframe tbody tr th:only-of-type {\n",
       "        vertical-align: middle;\n",
       "    }\n",
       "\n",
       "    .dataframe tbody tr th {\n",
       "        vertical-align: top;\n",
       "    }\n",
       "\n",
       "    .dataframe thead th {\n",
       "        text-align: right;\n",
       "    }\n",
       "</style>\n",
       "<table border=\"1\" class=\"dataframe\">\n",
       "  <thead>\n",
       "    <tr style=\"text-align: right;\">\n",
       "      <th></th>\n",
       "      <th>dax</th>\n",
       "      <th>ftse</th>\n",
       "      <th>nikkei</th>\n",
       "      <th>market_value</th>\n",
       "    </tr>\n",
       "  </thead>\n",
       "  <tbody>\n",
       "    <tr>\n",
       "      <th>count</th>\n",
       "      <td>6277.000000</td>\n",
       "      <td>6277.000000</td>\n",
       "      <td>6277.000000</td>\n",
       "      <td>6277.000000</td>\n",
       "    </tr>\n",
       "    <tr>\n",
       "      <th>mean</th>\n",
       "      <td>6080.063363</td>\n",
       "      <td>5423.690398</td>\n",
       "      <td>14597.597179</td>\n",
       "      <td>1288.642547</td>\n",
       "    </tr>\n",
       "    <tr>\n",
       "      <th>std</th>\n",
       "      <td>2752.604984</td>\n",
       "      <td>1145.568370</td>\n",
       "      <td>4043.683038</td>\n",
       "      <td>487.868210</td>\n",
       "    </tr>\n",
       "    <tr>\n",
       "      <th>min</th>\n",
       "      <td>1911.700000</td>\n",
       "      <td>2876.600000</td>\n",
       "      <td>7054.980000</td>\n",
       "      <td>438.920000</td>\n",
       "    </tr>\n",
       "    <tr>\n",
       "      <th>25%</th>\n",
       "      <td>4070.460000</td>\n",
       "      <td>4487.880000</td>\n",
       "      <td>10701.130000</td>\n",
       "      <td>992.715221</td>\n",
       "    </tr>\n",
       "    <tr>\n",
       "      <th>50%</th>\n",
       "      <td>5774.380000</td>\n",
       "      <td>5663.300000</td>\n",
       "      <td>15030.510000</td>\n",
       "      <td>1233.761241</td>\n",
       "    </tr>\n",
       "    <tr>\n",
       "      <th>75%</th>\n",
       "      <td>7442.660000</td>\n",
       "      <td>6304.630175</td>\n",
       "      <td>17860.470000</td>\n",
       "      <td>1460.250000</td>\n",
       "    </tr>\n",
       "    <tr>\n",
       "      <th>max</th>\n",
       "      <td>13559.600000</td>\n",
       "      <td>7778.637689</td>\n",
       "      <td>24124.150000</td>\n",
       "      <td>2872.867839</td>\n",
       "    </tr>\n",
       "  </tbody>\n",
       "</table>\n",
       "</div>"
      ],
      "text/plain": [
       "                dax         ftse        nikkei  market_value\n",
       "count   6277.000000  6277.000000   6277.000000   6277.000000\n",
       "mean    6080.063363  5423.690398  14597.597179   1288.642547\n",
       "std     2752.604984  1145.568370   4043.683038    487.868210\n",
       "min     1911.700000  2876.600000   7054.980000    438.920000\n",
       "25%     4070.460000  4487.880000  10701.130000    992.715221\n",
       "50%     5774.380000  5663.300000  15030.510000   1233.761241\n",
       "75%     7442.660000  6304.630175  17860.470000   1460.250000\n",
       "max    13559.600000  7778.637689  24124.150000   2872.867839"
      ]
     },
     "execution_count": 89,
     "metadata": {},
     "output_type": "execute_result"
    }
   ],
   "source": [
    "df_comp.describe()"
   ]
  },
  {
   "cell_type": "code",
   "execution_count": 90,
   "metadata": {},
   "outputs": [],
   "source": [
    "del df_comp[\"dax\"], df_comp[\"ftse\"], df_comp[\"nikkei\"]"
   ]
  },
  {
   "cell_type": "code",
   "execution_count": 91,
   "metadata": {},
   "outputs": [
    {
     "data": {
      "text/html": [
       "<div>\n",
       "<style scoped>\n",
       "    .dataframe tbody tr th:only-of-type {\n",
       "        vertical-align: middle;\n",
       "    }\n",
       "\n",
       "    .dataframe tbody tr th {\n",
       "        vertical-align: top;\n",
       "    }\n",
       "\n",
       "    .dataframe thead th {\n",
       "        text-align: right;\n",
       "    }\n",
       "</style>\n",
       "<table border=\"1\" class=\"dataframe\">\n",
       "  <thead>\n",
       "    <tr style=\"text-align: right;\">\n",
       "      <th></th>\n",
       "      <th>market_value</th>\n",
       "    </tr>\n",
       "  </thead>\n",
       "  <tbody>\n",
       "    <tr>\n",
       "      <th>count</th>\n",
       "      <td>6277.000000</td>\n",
       "    </tr>\n",
       "    <tr>\n",
       "      <th>mean</th>\n",
       "      <td>1288.642547</td>\n",
       "    </tr>\n",
       "    <tr>\n",
       "      <th>std</th>\n",
       "      <td>487.868210</td>\n",
       "    </tr>\n",
       "    <tr>\n",
       "      <th>min</th>\n",
       "      <td>438.920000</td>\n",
       "    </tr>\n",
       "    <tr>\n",
       "      <th>25%</th>\n",
       "      <td>992.715221</td>\n",
       "    </tr>\n",
       "    <tr>\n",
       "      <th>50%</th>\n",
       "      <td>1233.761241</td>\n",
       "    </tr>\n",
       "    <tr>\n",
       "      <th>75%</th>\n",
       "      <td>1460.250000</td>\n",
       "    </tr>\n",
       "    <tr>\n",
       "      <th>max</th>\n",
       "      <td>2872.867839</td>\n",
       "    </tr>\n",
       "  </tbody>\n",
       "</table>\n",
       "</div>"
      ],
      "text/plain": [
       "       market_value\n",
       "count   6277.000000\n",
       "mean    1288.642547\n",
       "std      487.868210\n",
       "min      438.920000\n",
       "25%      992.715221\n",
       "50%     1233.761241\n",
       "75%     1460.250000\n",
       "max     2872.867839"
      ]
     },
     "execution_count": 91,
     "metadata": {},
     "output_type": "execute_result"
    }
   ],
   "source": [
    "df_comp.describe()"
   ]
  },
  {
   "cell_type": "markdown",
   "metadata": {},
   "source": [
    "### Splitting Data"
   ]
  },
  {
   "cell_type": "code",
   "execution_count": 92,
   "metadata": {},
   "outputs": [],
   "source": [
    "# Determing the cut-off point\n",
    "size = int(len(df_comp*0.8))"
   ]
  },
  {
   "cell_type": "code",
   "execution_count": 93,
   "metadata": {},
   "outputs": [],
   "source": [
    "df_train = df_comp.iloc[:size] \n",
    "df_test = df_comp.iloc[size:]"
   ]
  },
  {
   "cell_type": "markdown",
   "metadata": {},
   "source": [
    "**Note:** We'll compare df.head() and df.tail() to make sure there are no overlapping values"
   ]
  },
  {
   "cell_type": "code",
   "execution_count": 94,
   "metadata": {},
   "outputs": [
    {
     "data": {
      "text/html": [
       "<div>\n",
       "<style scoped>\n",
       "    .dataframe tbody tr th:only-of-type {\n",
       "        vertical-align: middle;\n",
       "    }\n",
       "\n",
       "    .dataframe tbody tr th {\n",
       "        vertical-align: top;\n",
       "    }\n",
       "\n",
       "    .dataframe thead th {\n",
       "        text-align: right;\n",
       "    }\n",
       "</style>\n",
       "<table border=\"1\" class=\"dataframe\">\n",
       "  <thead>\n",
       "    <tr style=\"text-align: right;\">\n",
       "      <th></th>\n",
       "      <th>market_value</th>\n",
       "    </tr>\n",
       "    <tr>\n",
       "      <th>date</th>\n",
       "      <th></th>\n",
       "    </tr>\n",
       "  </thead>\n",
       "  <tbody>\n",
       "    <tr>\n",
       "      <th>1994-01-07</th>\n",
       "      <td>469.90</td>\n",
       "    </tr>\n",
       "    <tr>\n",
       "      <th>1994-01-10</th>\n",
       "      <td>475.27</td>\n",
       "    </tr>\n",
       "    <tr>\n",
       "      <th>1994-01-11</th>\n",
       "      <td>474.13</td>\n",
       "    </tr>\n",
       "    <tr>\n",
       "      <th>1994-01-12</th>\n",
       "      <td>474.17</td>\n",
       "    </tr>\n",
       "    <tr>\n",
       "      <th>1994-01-13</th>\n",
       "      <td>472.47</td>\n",
       "    </tr>\n",
       "  </tbody>\n",
       "</table>\n",
       "</div>"
      ],
      "text/plain": [
       "            market_value\n",
       "date                    \n",
       "1994-01-07        469.90\n",
       "1994-01-10        475.27\n",
       "1994-01-11        474.13\n",
       "1994-01-12        474.17\n",
       "1994-01-13        472.47"
      ]
     },
     "execution_count": 94,
     "metadata": {},
     "output_type": "execute_result"
    }
   ],
   "source": [
    "df_train.head()"
   ]
  },
  {
   "cell_type": "code",
   "execution_count": 95,
   "metadata": {},
   "outputs": [
    {
     "data": {
      "text/html": [
       "<div>\n",
       "<style scoped>\n",
       "    .dataframe tbody tr th:only-of-type {\n",
       "        vertical-align: middle;\n",
       "    }\n",
       "\n",
       "    .dataframe tbody tr th {\n",
       "        vertical-align: top;\n",
       "    }\n",
       "\n",
       "    .dataframe thead th {\n",
       "        text-align: right;\n",
       "    }\n",
       "</style>\n",
       "<table border=\"1\" class=\"dataframe\">\n",
       "  <thead>\n",
       "    <tr style=\"text-align: right;\">\n",
       "      <th></th>\n",
       "      <th>market_value</th>\n",
       "    </tr>\n",
       "    <tr>\n",
       "      <th>date</th>\n",
       "      <th></th>\n",
       "    </tr>\n",
       "  </thead>\n",
       "  <tbody>\n",
       "    <tr>\n",
       "      <th>2018-01-23</th>\n",
       "      <td>2839.130362</td>\n",
       "    </tr>\n",
       "    <tr>\n",
       "      <th>2018-01-24</th>\n",
       "      <td>2837.544008</td>\n",
       "    </tr>\n",
       "    <tr>\n",
       "      <th>2018-01-25</th>\n",
       "      <td>2839.253031</td>\n",
       "    </tr>\n",
       "    <tr>\n",
       "      <th>2018-01-26</th>\n",
       "      <td>2872.867839</td>\n",
       "    </tr>\n",
       "    <tr>\n",
       "      <th>2018-01-29</th>\n",
       "      <td>2853.528411</td>\n",
       "    </tr>\n",
       "  </tbody>\n",
       "</table>\n",
       "</div>"
      ],
      "text/plain": [
       "            market_value\n",
       "date                    \n",
       "2018-01-23   2839.130362\n",
       "2018-01-24   2837.544008\n",
       "2018-01-25   2839.253031\n",
       "2018-01-26   2872.867839\n",
       "2018-01-29   2853.528411"
      ]
     },
     "execution_count": 95,
     "metadata": {},
     "output_type": "execute_result"
    }
   ],
   "source": [
    "df_train.tail()"
   ]
  },
  {
   "cell_type": "markdown",
   "metadata": {},
   "source": [
    "## Creating Time Series Objects"
   ]
  },
  {
   "cell_type": "markdown",
   "metadata": {},
   "source": [
    "### White Noise"
   ]
  },
  {
   "cell_type": "code",
   "execution_count": 98,
   "metadata": {},
   "outputs": [],
   "source": [
    "wn = np.random.normal(loc = df_train.market_value.mean(), scale = df_train.market_value.std(), size = len(df_train))"
   ]
  },
  {
   "cell_type": "code",
   "execution_count": 100,
   "metadata": {},
   "outputs": [
    {
     "name": "stderr",
     "output_type": "stream",
     "text": [
      "C:\\Users\\Dina\\anaconda3\\lib\\site-packages\\ipykernel_launcher.py:2: SettingWithCopyWarning: \n",
      "A value is trying to be set on a copy of a slice from a DataFrame.\n",
      "Try using .loc[row_indexer,col_indexer] = value instead\n",
      "\n",
      "See the caveats in the documentation: https://pandas.pydata.org/pandas-docs/stable/user_guide/indexing.html#returning-a-view-versus-a-copy\n",
      "  \n"
     ]
    }
   ],
   "source": [
    "# Adding white noise to our data\n",
    "df_train['wn'] = wn"
   ]
  },
  {
   "cell_type": "code",
   "execution_count": 101,
   "metadata": {},
   "outputs": [
    {
     "data": {
      "text/html": [
       "<div>\n",
       "<style scoped>\n",
       "    .dataframe tbody tr th:only-of-type {\n",
       "        vertical-align: middle;\n",
       "    }\n",
       "\n",
       "    .dataframe tbody tr th {\n",
       "        vertical-align: top;\n",
       "    }\n",
       "\n",
       "    .dataframe thead th {\n",
       "        text-align: right;\n",
       "    }\n",
       "</style>\n",
       "<table border=\"1\" class=\"dataframe\">\n",
       "  <thead>\n",
       "    <tr style=\"text-align: right;\">\n",
       "      <th></th>\n",
       "      <th>market_value</th>\n",
       "      <th>wn</th>\n",
       "    </tr>\n",
       "  </thead>\n",
       "  <tbody>\n",
       "    <tr>\n",
       "      <th>count</th>\n",
       "      <td>6277.000000</td>\n",
       "      <td>6277.000000</td>\n",
       "    </tr>\n",
       "    <tr>\n",
       "      <th>mean</th>\n",
       "      <td>1288.642547</td>\n",
       "      <td>1284.286899</td>\n",
       "    </tr>\n",
       "    <tr>\n",
       "      <th>std</th>\n",
       "      <td>487.868210</td>\n",
       "      <td>488.515484</td>\n",
       "    </tr>\n",
       "    <tr>\n",
       "      <th>min</th>\n",
       "      <td>438.920000</td>\n",
       "      <td>-492.473764</td>\n",
       "    </tr>\n",
       "    <tr>\n",
       "      <th>25%</th>\n",
       "      <td>992.715221</td>\n",
       "      <td>952.605294</td>\n",
       "    </tr>\n",
       "    <tr>\n",
       "      <th>50%</th>\n",
       "      <td>1233.761241</td>\n",
       "      <td>1288.613734</td>\n",
       "    </tr>\n",
       "    <tr>\n",
       "      <th>75%</th>\n",
       "      <td>1460.250000</td>\n",
       "      <td>1610.552519</td>\n",
       "    </tr>\n",
       "    <tr>\n",
       "      <th>max</th>\n",
       "      <td>2872.867839</td>\n",
       "      <td>3022.787248</td>\n",
       "    </tr>\n",
       "  </tbody>\n",
       "</table>\n",
       "</div>"
      ],
      "text/plain": [
       "       market_value           wn\n",
       "count   6277.000000  6277.000000\n",
       "mean    1288.642547  1284.286899\n",
       "std      487.868210   488.515484\n",
       "min      438.920000  -492.473764\n",
       "25%      992.715221   952.605294\n",
       "50%     1233.761241  1288.613734\n",
       "75%     1460.250000  1610.552519\n",
       "max     2872.867839  3022.787248"
      ]
     },
     "execution_count": 101,
     "metadata": {},
     "output_type": "execute_result"
    }
   ],
   "source": [
    "df_train.describe()"
   ]
  },
  {
   "cell_type": "code",
   "execution_count": 104,
   "metadata": {},
   "outputs": [
    {
     "data": {
      "image/png": "[encoded data removed]",
      "text/plain": [
       "<Figure size 1440x360 with 1 Axes>"
      ]
     },
     "metadata": {
      "needs_background": "light"
     },
     "output_type": "display_data"
    }
   ],
   "source": [
    "df_train.wn.plot(figsize = (20,5))\n",
    "plt.title(\"White Noise Time Series\", size = 24)\n",
    "plt.show()"
   ]
  },
  {
   "cell_type": "code",
   "execution_count": 108,
   "metadata": {},
   "outputs": [
    {
     "data": {
      "image/png": "[encoded data removed]",
      "text/plain": [
       "<Figure size 1440x360 with 1 Axes>"
      ]
     },
     "metadata": {
      "needs_background": "light"
     },
     "output_type": "display_data"
    }
   ],
   "source": [
    "df_train.market_value.plot(figsize = (20,5))\n",
    "plt.title(\"S&P Prices\", size = 24)\n",
    "plt.ylim(0,2300)\n",
    "plt.show()"
   ]
  },
  {
   "cell_type": "markdown",
   "metadata": {},
   "source": [
    "**Note:** It's easier to compare the two plots if they have the same range of values on the y-axis"
   ]
  },
  {
   "cell_type": "code",
   "execution_count": null,
   "metadata": {},
   "outputs": [],
   "source": []
  }
 ],
 "metadata": {
  "kernelspec": {
   "display_name": "Python 3",
   "language": "python",
   "name": "python3"
  },
  "language_info": {
   "codemirror_mode": {
    "name": "ipython",
    "version": 3
   },
   "file_extension": ".py",
   "mimetype": "text/x-python",
   "name": "python",
   "nbconvert_exporter": "python",
   "pygments_lexer": "ipython3",
   "version": "3.7.6"
  }
 },
 "nbformat": 4,
 "nbformat_minor": 4
}
